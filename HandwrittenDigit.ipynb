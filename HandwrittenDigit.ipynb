{
  "nbformat": 4,
  "nbformat_minor": 0,
  "metadata": {
    "colab": {
      "provenance": [],
      "authorship_tag": "ABX9TyPcntVEgRtomZyCQAybuluZ",
      "include_colab_link": true
    },
    "kernelspec": {
      "name": "python3",
      "display_name": "Python 3"
    },
    "language_info": {
      "name": "python"
    }
  },
  "cells": [
    {
      "cell_type": "markdown",
      "metadata": {
        "id": "view-in-github",
        "colab_type": "text"
      },
      "source": [
        "<a href=\"https://colab.research.google.com/github/UmaGhildiyal/MLSC_SeasonOfAI/blob/main/HandwrittenDigit.ipynb\" target=\"_parent\"><img src=\"https://colab.research.google.com/assets/colab-badge.svg\" alt=\"Open In Colab\"/></a>"
      ]
    },
    {
      "cell_type": "code",
      "execution_count": 1,
      "metadata": {
        "id": "CHu425EOrkbJ"
      },
      "outputs": [],
      "source": [
        "# fetching dataset\n",
        "from sklearn.datasets import fetch_openml\n",
        "import matplotlib\n",
        "import matplotlib.pyplot as plt\n",
        "import numpy as np\n",
        "from sklearn.linear_model import LogisticRegression\n",
        "from sklearn.model_selection import cross_val_score"
      ]
    },
    {
      "cell_type": "code",
      "source": [
        "mnist = fetch_openml('mnist_784')"
      ],
      "metadata": {
        "id": "ioF3MmCErp-9"
      },
      "execution_count": 2,
      "outputs": []
    },
    {
      "cell_type": "code",
      "source": [
        "x, y = mnist['data'], mnist['target']\n",
        "\n",
        "some_digit = x.to_numpy()[36001]\n",
        "some_digit_image = some_digit.reshape(28, 28)  # let's reshape to plot it\n",
        "\n",
        "plt.imshow(some_digit_image, cmap=matplotlib.cm.binary,\n",
        "           interpolation='nearest')\n",
        "plt.axis(\"off\")\n",
        "plt.show()"
      ],
      "metadata": {
        "colab": {
          "base_uri": "https://localhost:8080/",
          "height": 406
        },
        "id": "PqbOIW_4rvXM",
        "outputId": "35b11a19-0460-4c8f-a2b0-8f51ed687330"
      },
      "execution_count": 3,
      "outputs": [
        {
          "output_type": "display_data",
          "data": {
            "text/plain": [
              "<Figure size 640x480 with 1 Axes>"
            ],
            "image/png": "[encoded data removed]"
          },
          "metadata": {}
        }
      ]
    },
    {
      "cell_type": "code",
      "source": [],
      "metadata": {
        "id": "bQjYO2Q9tRht"
      },
      "execution_count": null,
      "outputs": []
    },
    {
      "cell_type": "code",
      "source": [
        "x_train, x_test = x[:60000], x[60000:70000]\n",
        "y_train, y_test = y[:60000], y[60000:70000]\n",
        "\n",
        "# x_train, y_train = np.array(x_train), np.array(y_train)\n",
        "\n",
        "shuffle_index = np.random.permutation(60000)\n",
        "\n",
        "# Shuffle using iloc for Pandas DataFrame/Series\n",
        "shuffle_index = np.random.permutation(60000)\n",
        "x_train = x_train.iloc[shuffle_index]\n",
        "y_train = y_train.iloc[shuffle_index]\n",
        "# x_train, y_train = x_train[shuffle_index], y_train[shuffle_index]\n",
        "\n",
        "# Creating a 2-detector\n",
        "y_train = y_train.astype(np.int8)\n",
        "y_test = y_test.astype(np.int8)\n",
        "y_train_2 = (y_train == 2)  # Remove quotes, as '2' is treated as a string, but you're working with integers\n",
        "y_test_2 = (y_test == 2)\n"
      ],
      "metadata": {
        "id": "WA2ncJ3br4nb"
      },
      "execution_count": 8,
      "outputs": []
    },
    {
      "cell_type": "code",
      "source": [
        "# Train a logistic regression classifier\n",
        "clf = LogisticRegression(tol=0.1)\n",
        "clf.fit(x_train, y_train_2)\n",
        "example = clf.predict([some_digit])\n",
        "print(example)\n"
      ],
      "metadata": {
        "colab": {
          "base_uri": "https://localhost:8080/"
        },
        "id": "8MWt75Ktr7Z0",
        "outputId": "9306da5f-dd1a-461a-ac5e-3e2cda31f61e"
      },
      "execution_count": 9,
      "outputs": [
        {
          "output_type": "stream",
          "name": "stdout",
          "text": [
            "[ True]\n"
          ]
        },
        {
          "output_type": "stream",
          "name": "stderr",
          "text": [
            "/usr/local/lib/python3.10/dist-packages/sklearn/base.py:493: UserWarning: X does not have valid feature names, but LogisticRegression was fitted with feature names\n",
            "  warnings.warn(\n"
          ]
        }
      ]
    },
    {
      "cell_type": "code",
      "source": [
        "# Cross Validation\n",
        "a = cross_val_score(clf, x_train, y_train_2, cv=3, scoring=\"accuracy\")\n",
        "print(a.mean())\n"
      ],
      "metadata": {
        "colab": {
          "base_uri": "https://localhost:8080/"
        },
        "id": "Ea8RR_W_tyIw",
        "outputId": "e1a735bc-848e-428c-d193-0b80490932a9"
      },
      "execution_count": 10,
      "outputs": [
        {
          "output_type": "stream",
          "name": "stdout",
          "text": [
            "0.9790833333333334\n"
          ]
        }
      ]
    },
    {
      "cell_type": "code",
      "source": [],
      "metadata": {
        "id": "77FcvdrEt5mf"
      },
      "execution_count": null,
      "outputs": []
    }
  ]
}